{
 "cells": [
  {
   "cell_type": "code",
   "execution_count": 1,
   "metadata": {},
   "outputs": [
    {
     "ename": "FileNotFoundError",
     "evalue": "[Errno 2] No such file or directory: 'now.csv'",
     "output_type": "error",
     "traceback": [
      "\u001b[1;31m---------------------------------------------------------------------------\u001b[0m",
      "\u001b[1;31mFileNotFoundError\u001b[0m                         Traceback (most recent call last)",
      "\u001b[1;32mc:\\Users\\hamat\\prog\\DifferenceCheck\\UEC_Scholarship.ipynb Cell 1'\u001b[0m in \u001b[0;36m<cell line: 5>\u001b[1;34m()\u001b[0m\n\u001b[0;32m      <a href='vscode-notebook-cell:/c%3A/Users/hamat/prog/DifferenceCheck/UEC_Scholarship.ipynb#ch0000000?line=1'>2</a>\u001b[0m \u001b[39mimport\u001b[39;00m \u001b[39mpandas\u001b[39;00m \u001b[39mas\u001b[39;00m \u001b[39mpd\u001b[39;00m\n\u001b[0;32m      <a href='vscode-notebook-cell:/c%3A/Users/hamat/prog/DifferenceCheck/UEC_Scholarship.ipynb#ch0000000?line=2'>3</a>\u001b[0m \u001b[39mimport\u001b[39;00m \u001b[39mos\u001b[39;00m\n\u001b[1;32m----> <a href='vscode-notebook-cell:/c%3A/Users/hamat/prog/DifferenceCheck/UEC_Scholarship.ipynb#ch0000000?line=4'>5</a>\u001b[0m df_1 \u001b[39m=\u001b[39m pd\u001b[39m.\u001b[39;49mread_csv(\u001b[39m'\u001b[39;49m\u001b[39mnow.csv\u001b[39;49m\u001b[39m'\u001b[39;49m,header\u001b[39m=\u001b[39;49m\u001b[39mNone\u001b[39;49;00m)\n\u001b[0;32m      <a href='vscode-notebook-cell:/c%3A/Users/hamat/prog/DifferenceCheck/UEC_Scholarship.ipynb#ch0000000?line=5'>6</a>\u001b[0m os\u001b[39m.\u001b[39mrename(\u001b[39m'\u001b[39m\u001b[39mnow.csv\u001b[39m\u001b[39m'\u001b[39m, \u001b[39m'\u001b[39m\u001b[39mold.csv\u001b[39m\u001b[39m'\u001b[39m)\n",
      "File \u001b[1;32mc:\\Users\\hamat\\anaconda3\\envs\\Scraping\\lib\\site-packages\\pandas\\util\\_decorators.py:311\u001b[0m, in \u001b[0;36mdeprecate_nonkeyword_arguments.<locals>.decorate.<locals>.wrapper\u001b[1;34m(*args, **kwargs)\u001b[0m\n\u001b[0;32m    <a href='file:///c%3A/Users/hamat/anaconda3/envs/Scraping/lib/site-packages/pandas/util/_decorators.py?line=304'>305</a>\u001b[0m \u001b[39mif\u001b[39;00m \u001b[39mlen\u001b[39m(args) \u001b[39m>\u001b[39m num_allow_args:\n\u001b[0;32m    <a href='file:///c%3A/Users/hamat/anaconda3/envs/Scraping/lib/site-packages/pandas/util/_decorators.py?line=305'>306</a>\u001b[0m     warnings\u001b[39m.\u001b[39mwarn(\n\u001b[0;32m    <a href='file:///c%3A/Users/hamat/anaconda3/envs/Scraping/lib/site-packages/pandas/util/_decorators.py?line=306'>307</a>\u001b[0m         msg\u001b[39m.\u001b[39mformat(arguments\u001b[39m=\u001b[39marguments),\n\u001b[0;32m    <a href='file:///c%3A/Users/hamat/anaconda3/envs/Scraping/lib/site-packages/pandas/util/_decorators.py?line=307'>308</a>\u001b[0m         \u001b[39mFutureWarning\u001b[39;00m,\n\u001b[0;32m    <a href='file:///c%3A/Users/hamat/anaconda3/envs/Scraping/lib/site-packages/pandas/util/_decorators.py?line=308'>309</a>\u001b[0m         stacklevel\u001b[39m=\u001b[39mstacklevel,\n\u001b[0;32m    <a href='file:///c%3A/Users/hamat/anaconda3/envs/Scraping/lib/site-packages/pandas/util/_decorators.py?line=309'>310</a>\u001b[0m     )\n\u001b[1;32m--> <a href='file:///c%3A/Users/hamat/anaconda3/envs/Scraping/lib/site-packages/pandas/util/_decorators.py?line=310'>311</a>\u001b[0m \u001b[39mreturn\u001b[39;00m func(\u001b[39m*\u001b[39margs, \u001b[39m*\u001b[39m\u001b[39m*\u001b[39mkwargs)\n",
      "File \u001b[1;32mc:\\Users\\hamat\\anaconda3\\envs\\Scraping\\lib\\site-packages\\pandas\\io\\parsers\\readers.py:680\u001b[0m, in \u001b[0;36mread_csv\u001b[1;34m(filepath_or_buffer, sep, delimiter, header, names, index_col, usecols, squeeze, prefix, mangle_dupe_cols, dtype, engine, converters, true_values, false_values, skipinitialspace, skiprows, skipfooter, nrows, na_values, keep_default_na, na_filter, verbose, skip_blank_lines, parse_dates, infer_datetime_format, keep_date_col, date_parser, dayfirst, cache_dates, iterator, chunksize, compression, thousands, decimal, lineterminator, quotechar, quoting, doublequote, escapechar, comment, encoding, encoding_errors, dialect, error_bad_lines, warn_bad_lines, on_bad_lines, delim_whitespace, low_memory, memory_map, float_precision, storage_options)\u001b[0m\n\u001b[0;32m    <a href='file:///c%3A/Users/hamat/anaconda3/envs/Scraping/lib/site-packages/pandas/io/parsers/readers.py?line=664'>665</a>\u001b[0m kwds_defaults \u001b[39m=\u001b[39m _refine_defaults_read(\n\u001b[0;32m    <a href='file:///c%3A/Users/hamat/anaconda3/envs/Scraping/lib/site-packages/pandas/io/parsers/readers.py?line=665'>666</a>\u001b[0m     dialect,\n\u001b[0;32m    <a href='file:///c%3A/Users/hamat/anaconda3/envs/Scraping/lib/site-packages/pandas/io/parsers/readers.py?line=666'>667</a>\u001b[0m     delimiter,\n\u001b[1;32m   (...)\u001b[0m\n\u001b[0;32m    <a href='file:///c%3A/Users/hamat/anaconda3/envs/Scraping/lib/site-packages/pandas/io/parsers/readers.py?line=675'>676</a>\u001b[0m     defaults\u001b[39m=\u001b[39m{\u001b[39m\"\u001b[39m\u001b[39mdelimiter\u001b[39m\u001b[39m\"\u001b[39m: \u001b[39m\"\u001b[39m\u001b[39m,\u001b[39m\u001b[39m\"\u001b[39m},\n\u001b[0;32m    <a href='file:///c%3A/Users/hamat/anaconda3/envs/Scraping/lib/site-packages/pandas/io/parsers/readers.py?line=676'>677</a>\u001b[0m )\n\u001b[0;32m    <a href='file:///c%3A/Users/hamat/anaconda3/envs/Scraping/lib/site-packages/pandas/io/parsers/readers.py?line=677'>678</a>\u001b[0m kwds\u001b[39m.\u001b[39mupdate(kwds_defaults)\n\u001b[1;32m--> <a href='file:///c%3A/Users/hamat/anaconda3/envs/Scraping/lib/site-packages/pandas/io/parsers/readers.py?line=679'>680</a>\u001b[0m \u001b[39mreturn\u001b[39;00m _read(filepath_or_buffer, kwds)\n",
      "File \u001b[1;32mc:\\Users\\hamat\\anaconda3\\envs\\Scraping\\lib\\site-packages\\pandas\\io\\parsers\\readers.py:575\u001b[0m, in \u001b[0;36m_read\u001b[1;34m(filepath_or_buffer, kwds)\u001b[0m\n\u001b[0;32m    <a href='file:///c%3A/Users/hamat/anaconda3/envs/Scraping/lib/site-packages/pandas/io/parsers/readers.py?line=571'>572</a>\u001b[0m _validate_names(kwds\u001b[39m.\u001b[39mget(\u001b[39m\"\u001b[39m\u001b[39mnames\u001b[39m\u001b[39m\"\u001b[39m, \u001b[39mNone\u001b[39;00m))\n\u001b[0;32m    <a href='file:///c%3A/Users/hamat/anaconda3/envs/Scraping/lib/site-packages/pandas/io/parsers/readers.py?line=573'>574</a>\u001b[0m \u001b[39m# Create the parser.\u001b[39;00m\n\u001b[1;32m--> <a href='file:///c%3A/Users/hamat/anaconda3/envs/Scraping/lib/site-packages/pandas/io/parsers/readers.py?line=574'>575</a>\u001b[0m parser \u001b[39m=\u001b[39m TextFileReader(filepath_or_buffer, \u001b[39m*\u001b[39m\u001b[39m*\u001b[39mkwds)\n\u001b[0;32m    <a href='file:///c%3A/Users/hamat/anaconda3/envs/Scraping/lib/site-packages/pandas/io/parsers/readers.py?line=576'>577</a>\u001b[0m \u001b[39mif\u001b[39;00m chunksize \u001b[39mor\u001b[39;00m iterator:\n\u001b[0;32m    <a href='file:///c%3A/Users/hamat/anaconda3/envs/Scraping/lib/site-packages/pandas/io/parsers/readers.py?line=577'>578</a>\u001b[0m     \u001b[39mreturn\u001b[39;00m parser\n",
      "File \u001b[1;32mc:\\Users\\hamat\\anaconda3\\envs\\Scraping\\lib\\site-packages\\pandas\\io\\parsers\\readers.py:933\u001b[0m, in \u001b[0;36mTextFileReader.__init__\u001b[1;34m(self, f, engine, **kwds)\u001b[0m\n\u001b[0;32m    <a href='file:///c%3A/Users/hamat/anaconda3/envs/Scraping/lib/site-packages/pandas/io/parsers/readers.py?line=929'>930</a>\u001b[0m     \u001b[39mself\u001b[39m\u001b[39m.\u001b[39moptions[\u001b[39m\"\u001b[39m\u001b[39mhas_index_names\u001b[39m\u001b[39m\"\u001b[39m] \u001b[39m=\u001b[39m kwds[\u001b[39m\"\u001b[39m\u001b[39mhas_index_names\u001b[39m\u001b[39m\"\u001b[39m]\n\u001b[0;32m    <a href='file:///c%3A/Users/hamat/anaconda3/envs/Scraping/lib/site-packages/pandas/io/parsers/readers.py?line=931'>932</a>\u001b[0m \u001b[39mself\u001b[39m\u001b[39m.\u001b[39mhandles: IOHandles \u001b[39m|\u001b[39m \u001b[39mNone\u001b[39;00m \u001b[39m=\u001b[39m \u001b[39mNone\u001b[39;00m\n\u001b[1;32m--> <a href='file:///c%3A/Users/hamat/anaconda3/envs/Scraping/lib/site-packages/pandas/io/parsers/readers.py?line=932'>933</a>\u001b[0m \u001b[39mself\u001b[39m\u001b[39m.\u001b[39m_engine \u001b[39m=\u001b[39m \u001b[39mself\u001b[39;49m\u001b[39m.\u001b[39;49m_make_engine(f, \u001b[39mself\u001b[39;49m\u001b[39m.\u001b[39;49mengine)\n",
      "File \u001b[1;32mc:\\Users\\hamat\\anaconda3\\envs\\Scraping\\lib\\site-packages\\pandas\\io\\parsers\\readers.py:1217\u001b[0m, in \u001b[0;36mTextFileReader._make_engine\u001b[1;34m(self, f, engine)\u001b[0m\n\u001b[0;32m   <a href='file:///c%3A/Users/hamat/anaconda3/envs/Scraping/lib/site-packages/pandas/io/parsers/readers.py?line=1212'>1213</a>\u001b[0m     mode \u001b[39m=\u001b[39m \u001b[39m\"\u001b[39m\u001b[39mrb\u001b[39m\u001b[39m\"\u001b[39m\n\u001b[0;32m   <a href='file:///c%3A/Users/hamat/anaconda3/envs/Scraping/lib/site-packages/pandas/io/parsers/readers.py?line=1213'>1214</a>\u001b[0m \u001b[39m# error: No overload variant of \"get_handle\" matches argument types\u001b[39;00m\n\u001b[0;32m   <a href='file:///c%3A/Users/hamat/anaconda3/envs/Scraping/lib/site-packages/pandas/io/parsers/readers.py?line=1214'>1215</a>\u001b[0m \u001b[39m# \"Union[str, PathLike[str], ReadCsvBuffer[bytes], ReadCsvBuffer[str]]\"\u001b[39;00m\n\u001b[0;32m   <a href='file:///c%3A/Users/hamat/anaconda3/envs/Scraping/lib/site-packages/pandas/io/parsers/readers.py?line=1215'>1216</a>\u001b[0m \u001b[39m# , \"str\", \"bool\", \"Any\", \"Any\", \"Any\", \"Any\", \"Any\"\u001b[39;00m\n\u001b[1;32m-> <a href='file:///c%3A/Users/hamat/anaconda3/envs/Scraping/lib/site-packages/pandas/io/parsers/readers.py?line=1216'>1217</a>\u001b[0m \u001b[39mself\u001b[39m\u001b[39m.\u001b[39mhandles \u001b[39m=\u001b[39m get_handle(  \u001b[39m# type: ignore[call-overload]\u001b[39;49;00m\n\u001b[0;32m   <a href='file:///c%3A/Users/hamat/anaconda3/envs/Scraping/lib/site-packages/pandas/io/parsers/readers.py?line=1217'>1218</a>\u001b[0m     f,\n\u001b[0;32m   <a href='file:///c%3A/Users/hamat/anaconda3/envs/Scraping/lib/site-packages/pandas/io/parsers/readers.py?line=1218'>1219</a>\u001b[0m     mode,\n\u001b[0;32m   <a href='file:///c%3A/Users/hamat/anaconda3/envs/Scraping/lib/site-packages/pandas/io/parsers/readers.py?line=1219'>1220</a>\u001b[0m     encoding\u001b[39m=\u001b[39;49m\u001b[39mself\u001b[39;49m\u001b[39m.\u001b[39;49moptions\u001b[39m.\u001b[39;49mget(\u001b[39m\"\u001b[39;49m\u001b[39mencoding\u001b[39;49m\u001b[39m\"\u001b[39;49m, \u001b[39mNone\u001b[39;49;00m),\n\u001b[0;32m   <a href='file:///c%3A/Users/hamat/anaconda3/envs/Scraping/lib/site-packages/pandas/io/parsers/readers.py?line=1220'>1221</a>\u001b[0m     compression\u001b[39m=\u001b[39;49m\u001b[39mself\u001b[39;49m\u001b[39m.\u001b[39;49moptions\u001b[39m.\u001b[39;49mget(\u001b[39m\"\u001b[39;49m\u001b[39mcompression\u001b[39;49m\u001b[39m\"\u001b[39;49m, \u001b[39mNone\u001b[39;49;00m),\n\u001b[0;32m   <a href='file:///c%3A/Users/hamat/anaconda3/envs/Scraping/lib/site-packages/pandas/io/parsers/readers.py?line=1221'>1222</a>\u001b[0m     memory_map\u001b[39m=\u001b[39;49m\u001b[39mself\u001b[39;49m\u001b[39m.\u001b[39;49moptions\u001b[39m.\u001b[39;49mget(\u001b[39m\"\u001b[39;49m\u001b[39mmemory_map\u001b[39;49m\u001b[39m\"\u001b[39;49m, \u001b[39mFalse\u001b[39;49;00m),\n\u001b[0;32m   <a href='file:///c%3A/Users/hamat/anaconda3/envs/Scraping/lib/site-packages/pandas/io/parsers/readers.py?line=1222'>1223</a>\u001b[0m     is_text\u001b[39m=\u001b[39;49mis_text,\n\u001b[0;32m   <a href='file:///c%3A/Users/hamat/anaconda3/envs/Scraping/lib/site-packages/pandas/io/parsers/readers.py?line=1223'>1224</a>\u001b[0m     errors\u001b[39m=\u001b[39;49m\u001b[39mself\u001b[39;49m\u001b[39m.\u001b[39;49moptions\u001b[39m.\u001b[39;49mget(\u001b[39m\"\u001b[39;49m\u001b[39mencoding_errors\u001b[39;49m\u001b[39m\"\u001b[39;49m, \u001b[39m\"\u001b[39;49m\u001b[39mstrict\u001b[39;49m\u001b[39m\"\u001b[39;49m),\n\u001b[0;32m   <a href='file:///c%3A/Users/hamat/anaconda3/envs/Scraping/lib/site-packages/pandas/io/parsers/readers.py?line=1224'>1225</a>\u001b[0m     storage_options\u001b[39m=\u001b[39;49m\u001b[39mself\u001b[39;49m\u001b[39m.\u001b[39;49moptions\u001b[39m.\u001b[39;49mget(\u001b[39m\"\u001b[39;49m\u001b[39mstorage_options\u001b[39;49m\u001b[39m\"\u001b[39;49m, \u001b[39mNone\u001b[39;49;00m),\n\u001b[0;32m   <a href='file:///c%3A/Users/hamat/anaconda3/envs/Scraping/lib/site-packages/pandas/io/parsers/readers.py?line=1225'>1226</a>\u001b[0m )\n\u001b[0;32m   <a href='file:///c%3A/Users/hamat/anaconda3/envs/Scraping/lib/site-packages/pandas/io/parsers/readers.py?line=1226'>1227</a>\u001b[0m \u001b[39massert\u001b[39;00m \u001b[39mself\u001b[39m\u001b[39m.\u001b[39mhandles \u001b[39mis\u001b[39;00m \u001b[39mnot\u001b[39;00m \u001b[39mNone\u001b[39;00m\n\u001b[0;32m   <a href='file:///c%3A/Users/hamat/anaconda3/envs/Scraping/lib/site-packages/pandas/io/parsers/readers.py?line=1227'>1228</a>\u001b[0m f \u001b[39m=\u001b[39m \u001b[39mself\u001b[39m\u001b[39m.\u001b[39mhandles\u001b[39m.\u001b[39mhandle\n",
      "File \u001b[1;32mc:\\Users\\hamat\\anaconda3\\envs\\Scraping\\lib\\site-packages\\pandas\\io\\common.py:789\u001b[0m, in \u001b[0;36mget_handle\u001b[1;34m(path_or_buf, mode, encoding, compression, memory_map, is_text, errors, storage_options)\u001b[0m\n\u001b[0;32m    <a href='file:///c%3A/Users/hamat/anaconda3/envs/Scraping/lib/site-packages/pandas/io/common.py?line=783'>784</a>\u001b[0m \u001b[39melif\u001b[39;00m \u001b[39misinstance\u001b[39m(handle, \u001b[39mstr\u001b[39m):\n\u001b[0;32m    <a href='file:///c%3A/Users/hamat/anaconda3/envs/Scraping/lib/site-packages/pandas/io/common.py?line=784'>785</a>\u001b[0m     \u001b[39m# Check whether the filename is to be opened in binary mode.\u001b[39;00m\n\u001b[0;32m    <a href='file:///c%3A/Users/hamat/anaconda3/envs/Scraping/lib/site-packages/pandas/io/common.py?line=785'>786</a>\u001b[0m     \u001b[39m# Binary mode does not support 'encoding' and 'newline'.\u001b[39;00m\n\u001b[0;32m    <a href='file:///c%3A/Users/hamat/anaconda3/envs/Scraping/lib/site-packages/pandas/io/common.py?line=786'>787</a>\u001b[0m     \u001b[39mif\u001b[39;00m ioargs\u001b[39m.\u001b[39mencoding \u001b[39mand\u001b[39;00m \u001b[39m\"\u001b[39m\u001b[39mb\u001b[39m\u001b[39m\"\u001b[39m \u001b[39mnot\u001b[39;00m \u001b[39min\u001b[39;00m ioargs\u001b[39m.\u001b[39mmode:\n\u001b[0;32m    <a href='file:///c%3A/Users/hamat/anaconda3/envs/Scraping/lib/site-packages/pandas/io/common.py?line=787'>788</a>\u001b[0m         \u001b[39m# Encoding\u001b[39;00m\n\u001b[1;32m--> <a href='file:///c%3A/Users/hamat/anaconda3/envs/Scraping/lib/site-packages/pandas/io/common.py?line=788'>789</a>\u001b[0m         handle \u001b[39m=\u001b[39m \u001b[39mopen\u001b[39;49m(\n\u001b[0;32m    <a href='file:///c%3A/Users/hamat/anaconda3/envs/Scraping/lib/site-packages/pandas/io/common.py?line=789'>790</a>\u001b[0m             handle,\n\u001b[0;32m    <a href='file:///c%3A/Users/hamat/anaconda3/envs/Scraping/lib/site-packages/pandas/io/common.py?line=790'>791</a>\u001b[0m             ioargs\u001b[39m.\u001b[39;49mmode,\n\u001b[0;32m    <a href='file:///c%3A/Users/hamat/anaconda3/envs/Scraping/lib/site-packages/pandas/io/common.py?line=791'>792</a>\u001b[0m             encoding\u001b[39m=\u001b[39;49mioargs\u001b[39m.\u001b[39;49mencoding,\n\u001b[0;32m    <a href='file:///c%3A/Users/hamat/anaconda3/envs/Scraping/lib/site-packages/pandas/io/common.py?line=792'>793</a>\u001b[0m             errors\u001b[39m=\u001b[39;49merrors,\n\u001b[0;32m    <a href='file:///c%3A/Users/hamat/anaconda3/envs/Scraping/lib/site-packages/pandas/io/common.py?line=793'>794</a>\u001b[0m             newline\u001b[39m=\u001b[39;49m\u001b[39m\"\u001b[39;49m\u001b[39m\"\u001b[39;49m,\n\u001b[0;32m    <a href='file:///c%3A/Users/hamat/anaconda3/envs/Scraping/lib/site-packages/pandas/io/common.py?line=794'>795</a>\u001b[0m         )\n\u001b[0;32m    <a href='file:///c%3A/Users/hamat/anaconda3/envs/Scraping/lib/site-packages/pandas/io/common.py?line=795'>796</a>\u001b[0m     \u001b[39melse\u001b[39;00m:\n\u001b[0;32m    <a href='file:///c%3A/Users/hamat/anaconda3/envs/Scraping/lib/site-packages/pandas/io/common.py?line=796'>797</a>\u001b[0m         \u001b[39m# Binary mode\u001b[39;00m\n\u001b[0;32m    <a href='file:///c%3A/Users/hamat/anaconda3/envs/Scraping/lib/site-packages/pandas/io/common.py?line=797'>798</a>\u001b[0m         handle \u001b[39m=\u001b[39m \u001b[39mopen\u001b[39m(handle, ioargs\u001b[39m.\u001b[39mmode)\n",
      "\u001b[1;31mFileNotFoundError\u001b[0m: [Errno 2] No such file or directory: 'now.csv'"
     ]
    }
   ],
   "source": [
    "import csv\n",
    "import pandas as pd\n",
    "import os\n",
    "\n",
    "df_1 = pd.read_csv('now.csv',header=None)\n",
    "os.rename('now.csv', 'old.csv')"
   ]
  },
  {
   "cell_type": "code",
   "execution_count": 25,
   "metadata": {},
   "outputs": [
    {
     "name": "stdout",
     "output_type": "stream",
     "text": [
      "                           0   1  \\\n",
      "0       JEES・ソフトバンクAI人材育成奨学金  給付   \n",
      "1           公益財団法人アドヴァン山形育英会  給付   \n",
      "2             一般財団法人荒井芳男記念財団  給付   \n",
      "3              公益信託池田育英会トラスト  給付   \n",
      "4           公益財団法人いであ環境・文化財団  給付   \n",
      "..                       ...  ..   \n",
      "74             公益財団法人山田長満奨学会  給付   \n",
      "75             公益財団法人山村章奨学財団  給付   \n",
      "76  公益財団法人吉田育英会＜マスター21＞給与奨学生  給付   \n",
      "77  公益財団法人吉田育英会＜ドクター21＞給与奨学生  給付   \n",
      "78        公益財団法人米濵・リンガーハット財団  給付   \n",
      "\n",
      "                                                    2  \\\n",
      "0   大学院修士課程1年次在籍予定者。人工知能(AI)分野の学修・研究に取り組む者。\\r\\r\\n(...   \n",
      "1   \\r\\r\\n(1) 東京都内の大学、大学院、専門学校等に通う学生であること\\r\\r\\n(2)...   \n",
      "2   (1)2021年4月1日現在で23歳以下の学域2～4年生が対象(学域生のみ)\\r\\r\\n※2...   \n",
      "3   愛媛県内の高等学校を卒業している方、または保護者(奨学生が成人の場合、保護者であった方)が愛...   \n",
      "4   \\r\\r\\n【環境分野】\\r\\r\\n以下の項目を全て満たしていること。\\r\\n\\r\\r\\n1...   \n",
      "..                                                ...   \n",
      "74  \\r\\r\\n国籍・・・問わず。ただし、日本以外の国籍を有する者に\\r\\r\\n　　　　　ついて...   \n",
      "75  \\r\\r\\n以下の(1)～(5)のすべてに該当すること。\\r\\n\\r\\r\\n(1) 日本国籍...   \n",
      "76  \\r\\r\\n次に掲げる要件をすべて満たす方とします。 \\r\\r\\n・日本国籍を有する方。 \\...   \n",
      "77  \\r\\r\\n次に掲げる要件をすべて満たす方とします。 \\r\\r\\n・日本国籍を有する方。\\r...   \n",
      "78  \\r\\r\\n(ア) 鳥取県・長崎県内の大学（2～4年）・大学院に在籍する者\\r\\r\\n　　　...   \n",
      "\n",
      "                                                    3         4  \\\n",
      "0                   (1)願書\\r\\r\\n(2)推薦理由書\\r\\r\\n(3)成績証明書    本学推薦5名   \n",
      "1   \\r\\r\\n※ 2022年4月入学の学域1年生の場合は、下記の(2)推薦書、\\r\\r\\n　(...  全体 15名程度   \n",
      "2   1. 書類送付書\\r\\r\\n2. 願書(写真添付)\\r\\r\\n3. 応募時誓約書\\r\\r\\n...  全体 30名程度   \n",
      "3   \\r\\r\\n(1)公益信託池田育英会トラスト奨学金給付申請書(様式1)\\r\\r\\n(2)推薦...     全体 5名   \n",
      "4   \\r\\r\\n  1. 奨学金給付願書（所定様式）：1部\\r\\r\\n   2. 直近年度の成績...  全体 30名程度   \n",
      "..                                                ...       ...   \n",
      "74  \\r\\r\\n(1)提出書類確認表\\r\\r\\n(2)願書Ａ、Ｂ\\r\\r\\n(3)写真\\r\\r\\...     全体 6名   \n",
      "75  \\r\\r\\n① 奨学生願書（所定の様式を用いて作成したもの） \\r\\r\\n② 在学証明書（在...    全体 10名   \n",
      "76  \\r\\r\\n①願書（第1号様式G） \\r\\r\\n②推薦書（学部における主指導教官によるもの）...    本学推薦1名   \n",
      "77  \\r\\r\\n①願書（第1号様式H）\\r\\r\\n②推薦書（主指導教官によるもの）\\r\\r\\n ...   全体 5名程度   \n",
      "78  \\r\\r\\n① 奨学生願書（所定様式による）\\r\\r\\n② 写真（たて4ｃｍ×よこ3ｃｍで裏...  全体 15名程度   \n",
      "\n",
      "                5                      6     7               8     9  \n",
      "0             1年間    80,000円/月一時金40,000円  募集要項  2021/12/03募集終了  大学経由  \n",
      "1             1年間              30,000円/月  募集要項  2022/03/10募集終了  大学経由  \n",
      "2       正規の最短修業年限             100,000円/年  募集要項  2022/01/14募集終了    直接  \n",
      "3       正規の最短修業期間            17,000円/月＋α  募集要項      2022/05/13    直接  \n",
      "4             1年間             200,000円/年  募集要項  2022/04/27募集終了  大学経由  \n",
      "..            ...                    ...   ...             ...   ...  \n",
      "74            1年間             120,000円/月  募集要項  2021/12/24募集終了    直接  \n",
      "75  2年間(学域3、4年次)              480,000円/年  募集要項      2022/05/31    直接  \n",
      "76     正規の最短修業年限    80,000円/月授業料等、募集要項参照  募集要項  2022/04/25募集終了  大学経由  \n",
      "77      正規の最短修業年限  200,000円/月授業料等、募集要項参照  募集要項  2022/04/11募集終了    直接  \n",
      "78     正規の最短修業年限               20,000円/月  募集要項      2022/05/17  大学経由  \n",
      "\n",
      "[79 rows x 10 columns]\n",
      "\n",
      "{'一般財団法人KAWAJIRI FOUNDATUON'}\n"
     ]
    }
   ],
   "source": [
    "import csv\n",
    "from urllib.request import urlopen\n",
    "from bs4 import BeautifulSoup\n",
    "import ssl\n",
    "import pandas as pd\n",
    "import os\n",
    "\n",
    "ssl._create_default_https_context = ssl._create_unverified_context\n",
    "\n",
    "# URLの指定\n",
    "html = urlopen(\"http://gakusei.office.uec.ac.jp/keizai/tihou.html\")\n",
    "bsObj = BeautifulSoup(html, \"html.parser\")\n",
    "\n",
    "# テーブルを指定\n",
    "table = bsObj.findAll(\"table\")[1]\n",
    "# print(table)\n",
    "rows = table.findAll(\"tr\")\n",
    "\n",
    "with open(\"now.csv\", \"w\", encoding='utf-8') as file:\n",
    "    writer = csv.writer(file)\n",
    "    for row in rows:\n",
    "        csvRow = []\n",
    "        for cell in row.findAll(['td', 'th']):\n",
    "            if(('奨学'or'財団')or'法人' in cell.get_text()):\n",
    "                csvRow.append(cell.get_text())\n",
    "        writer.writerow(csvRow)\n",
    "\n",
    "df_1 = pd.read_csv('now.csv',header=None)\n",
    "df_2 = pd.read_csv('old.csv',header=None)\n",
    "\n",
    "print(df_1)\n",
    "print()\n",
    "\n",
    "l1 = list(df_1[0].values)\n",
    "l2 = list(df_2[0].values)\n",
    "l1_l2_and = set(l1) - set(l2)\n",
    "print(l1_l2_and)\n",
    "\n",
    "os.remove('old.csv')\n",
    "os.rename('now.csv', 'old.csv')"
   ]
  },
  {
   "cell_type": "code",
   "execution_count": 85,
   "metadata": {},
   "outputs": [
    {
     "name": "stdout",
     "output_type": "stream",
     "text": [
      "                           0   1  \\\n",
      "0       JEES・ソフトバンクAI人材育成奨学金  給付   \n",
      "1           公益財団法人アドヴァン山形育英会  給付   \n",
      "2             一般財団法人荒井芳男記念財団  給付   \n",
      "3              公益信託池田育英会トラスト  給付   \n",
      "4           公益財団法人いであ環境・文化財団  給付   \n",
      "..                       ...  ..   \n",
      "73             公益財団法人山田長満奨学会  給付   \n",
      "74             公益財団法人山村章奨学財団  給付   \n",
      "75  公益財団法人吉田育英会＜マスター21＞給与奨学生  給付   \n",
      "76  公益財団法人吉田育英会＜ドクター21＞給与奨学生  給付   \n",
      "77        公益財団法人米濵・リンガーハット財団  給付   \n",
      "\n",
      "                                                    2  \\\n",
      "0   大学院修士課程1年次在籍予定者。人工知能(AI)分野の学修・研究に取り組む者。\\r\\r\\n(...   \n",
      "1   \\r\\r\\n(1) 東京都内の大学、大学院、専門学校等に通う学生であること\\r\\r\\n(2)...   \n",
      "2   (1)2021年4月1日現在で23歳以下の学域2～4年生が対象(学域生のみ)\\r\\r\\n※2...   \n",
      "3   愛媛県内の高等学校を卒業している方、または保護者(奨学生が成人の場合、保護者であった方)が愛...   \n",
      "4   \\r\\r\\n【環境分野】\\r\\r\\n以下の項目を全て満たしていること。\\r\\n\\r\\r\\n1...   \n",
      "..                                                ...   \n",
      "73  \\r\\r\\n国籍・・・問わず。ただし、日本以外の国籍を有する者に\\r\\r\\n　　　　　ついて...   \n",
      "74  \\r\\r\\n以下の(1)～(5)のすべてに該当すること。\\r\\n\\r\\r\\n(1) 日本国籍...   \n",
      "75  \\r\\r\\n次に掲げる要件をすべて満たす方とします。 \\r\\r\\n・日本国籍を有する方。 \\...   \n",
      "76  \\r\\r\\n次に掲げる要件をすべて満たす方とします。 \\r\\r\\n・日本国籍を有する方。\\r...   \n",
      "77  \\r\\r\\n(ア) 鳥取県・長崎県内の大学（2～4年）・大学院に在籍する者\\r\\r\\n　　　...   \n",
      "\n",
      "                                                    3         4  \\\n",
      "0                   (1)願書\\r\\r\\n(2)推薦理由書\\r\\r\\n(3)成績証明書    本学推薦5名   \n",
      "1   \\r\\r\\n※ 2022年4月入学の学域1年生の場合は、下記の(2)推薦書、\\r\\r\\n　(...  全体 15名程度   \n",
      "2   1. 書類送付書\\r\\r\\n2. 願書(写真添付)\\r\\r\\n3. 応募時誓約書\\r\\r\\n...  全体 30名程度   \n",
      "3   \\r\\r\\n(1)公益信託池田育英会トラスト奨学金給付申請書(様式1)\\r\\r\\n(2)推薦...     全体 5名   \n",
      "4   \\r\\r\\n  1. 奨学金給付願書（所定様式）：1部\\r\\r\\n   2. 直近年度の成績...  全体 30名程度   \n",
      "..                                                ...       ...   \n",
      "73  \\r\\r\\n(1)提出書類確認表\\r\\r\\n(2)願書Ａ、Ｂ\\r\\r\\n(3)写真\\r\\r\\...     全体 6名   \n",
      "74  \\r\\r\\n① 奨学生願書（所定の様式を用いて作成したもの） \\r\\r\\n② 在学証明書（在...    全体 10名   \n",
      "75  \\r\\r\\n①願書（第1号様式G） \\r\\r\\n②推薦書（学部における主指導教官によるもの）...    本学推薦1名   \n",
      "76  \\r\\r\\n①願書（第1号様式H）\\r\\r\\n②推薦書（主指導教官によるもの）\\r\\r\\n ...   全体 5名程度   \n",
      "77  \\r\\r\\n① 奨学生願書（所定様式による）\\r\\r\\n② 写真（たて4ｃｍ×よこ3ｃｍで裏...  全体 15名程度   \n",
      "\n",
      "                5                      6     7               8     9  \n",
      "0             1年間    80,000円/月一時金40,000円  募集要項  2021/12/03募集終了  大学経由  \n",
      "1             1年間              30,000円/月  募集要項  2022/03/10募集終了  大学経由  \n",
      "2       正規の最短修業年限             100,000円/年  募集要項  2022/01/14募集終了    直接  \n",
      "3       正規の最短修業期間            17,000円/月＋α  募集要項      2022/05/13    直接  \n",
      "4             1年間             200,000円/年  募集要項  2022/04/27募集終了  大学経由  \n",
      "..            ...                    ...   ...             ...   ...  \n",
      "73            1年間             120,000円/月  募集要項  2021/12/24募集終了    直接  \n",
      "74  2年間(学域3、4年次)              480,000円/年  募集要項      2022/05/31    直接  \n",
      "75     正規の最短修業年限    80,000円/月授業料等、募集要項参照  募集要項  2022/04/25募集終了  大学経由  \n",
      "76      正規の最短修業年限  200,000円/月授業料等、募集要項参照  募集要項  2022/04/11募集終了    直接  \n",
      "77     正規の最短修業年限               20,000円/月  募集要項      2022/05/17  大学経由  \n",
      "\n",
      "[78 rows x 10 columns]\n"
     ]
    }
   ],
   "source": [
    "import pandas as pd\n",
    "df_1 = pd.read_csv('now.csv',header=None)\n",
    "print(df_1)"
   ]
  },
  {
   "cell_type": "code",
   "execution_count": 24,
   "metadata": {},
   "outputs": [
    {
     "name": "stdout",
     "output_type": "stream",
     "text": [
      "{'一般財団法人KAWAJIRI FOUNDATUON'}\n"
     ]
    }
   ],
   "source": [
    "l1 = list(df_1[0].values)\n",
    "l2 = list(df_2[0].values)\n",
    "l1_l2_and = set(l1) - set(l2)\n",
    "print(l1_l2_and)"
   ]
  }
 ],
 "metadata": {
  "interpreter": {
   "hash": "eb6318601827dba975ddda1ca781faa8753c2334060541bd178937d47b7e289b"
  },
  "kernelspec": {
   "display_name": "Python 3.9.4 ('Scraping')",
   "language": "python",
   "name": "python3"
  },
  "language_info": {
   "codemirror_mode": {
    "name": "ipython",
    "version": 3
   },
   "file_extension": ".py",
   "mimetype": "text/x-python",
   "name": "python",
   "nbconvert_exporter": "python",
   "pygments_lexer": "ipython3",
   "version": "3.9.4"
  },
  "orig_nbformat": 4
 },
 "nbformat": 4,
 "nbformat_minor": 2
}
