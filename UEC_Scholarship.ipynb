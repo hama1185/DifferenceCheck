{
 "cells": [
  {
   "cell_type": "code",
   "execution_count": 2,
   "metadata": {},
   "outputs": [
    {
     "name": "stderr",
     "output_type": "stream",
     "text": [
      "Some characters could not be decoded, and were replaced with REPLACEMENT CHARACTER.\n"
     ]
    },
    {
     "name": "stdout",
     "output_type": "stream",
     "text": [
      "0     2022/03/10募集終了\n",
      "1     2022/01/14募集終了\n",
      "2     2022/05/13募集終了\n",
      "3     2022/04/27募集終了\n",
      "4     2022/05/17募集終了\n",
      "           ...      \n",
      "75    2021/12/24募集終了\n",
      "76        2022/05/31\n",
      "77    2022/04/25募集終了\n",
      "78    2022/04/11募集終了\n",
      "79    2022/05/17募集終了\n",
      "Name: 8, Length: 80, dtype: object\n",
      "\n",
      "set()\n",
      "set()\n",
      "set()\n",
      "set()\n"
     ]
    }
   ],
   "source": [
    "import csv\n",
    "from urllib.request import urlopen\n",
    "from bs4 import BeautifulSoup\n",
    "import ssl\n",
    "import pandas as pd\n",
    "import os\n",
    "\n",
    "ssl._create_default_https_context = ssl._create_unverified_context\n",
    "\n",
    "# URLの指定\n",
    "html = urlopen(\"http://gakusei.office.uec.ac.jp/keizai/tihou.html\")\n",
    "bsObj = BeautifulSoup(html, \"html.parser\")\n",
    "\n",
    "# テーブルを指定\n",
    "table = bsObj.findAll(\"table\")[1]\n",
    "# print(table)\n",
    "rows = table.findAll(\"tr\")\n",
    "\n",
    "with open(\"now.csv\", \"w\", encoding='utf-8') as file:\n",
    "    writer = csv.writer(file)\n",
    "    for row in rows:\n",
    "        csvRow = []\n",
    "        for cell in row.findAll(['td', 'th']):\n",
    "            if(('奨学'or'財団')or'法人' in cell.get_text()):\n",
    "                csvRow.append(cell.get_text())\n",
    "        writer.writerow(csvRow)\n",
    "\n",
    "df_1 = pd.read_csv('now.csv',header=None)\n",
    "df_2 = pd.read_csv('old.csv',header=None)\n",
    "\n",
    "print(df_1[8])\n",
    "print()\n",
    "\n",
    "l1_title = list(df_1[0].values)\n",
    "l2_title = list(df_2[0].values)\n",
    "\n",
    "title_l1l2 = set(l1_title) - set(l2_title)\n",
    "title_l2l1 = set(l2_title) - set(l1_title)\n",
    "print(title_l1l2)\n",
    "print(title_l2l1)\n",
    "\n",
    "l1_date = list(df_1[8].values)\n",
    "l2_date = list(df_2[8].values)\n",
    "\n",
    "date_l1l2 = set(l1_date) - set(l2_date)\n",
    "date_l2l1 = set(l2_date) - set(l1_date)\n",
    "print(date_l1l2)\n",
    "print(date_l2l1)\n",
    "\n",
    "os.remove('old.csv')\n",
    "os.rename('now.csv', 'old.csv')"
   ]
  },
  {
   "cell_type": "code",
   "execution_count": 85,
   "metadata": {},
   "outputs": [
    {
     "name": "stdout",
     "output_type": "stream",
     "text": [
      "                           0   1  \\\n",
      "0       JEES・ソフトバンクAI人材育成奨学金  給付   \n",
      "1           公益財団法人アドヴァン山形育英会  給付   \n",
      "2             一般財団法人荒井芳男記念財団  給付   \n",
      "3              公益信託池田育英会トラスト  給付   \n",
      "4           公益財団法人いであ環境・文化財団  給付   \n",
      "..                       ...  ..   \n",
      "73             公益財団法人山田長満奨学会  給付   \n",
      "74             公益財団法人山村章奨学財団  給付   \n",
      "75  公益財団法人吉田育英会＜マスター21＞給与奨学生  給付   \n",
      "76  公益財団法人吉田育英会＜ドクター21＞給与奨学生  給付   \n",
      "77        公益財団法人米濵・リンガーハット財団  給付   \n",
      "\n",
      "                                                    2  \\\n",
      "0   大学院修士課程1年次在籍予定者。人工知能(AI)分野の学修・研究に取り組む者。\\r\\r\\n(...   \n",
      "1   \\r\\r\\n(1) 東京都内の大学、大学院、専門学校等に通う学生であること\\r\\r\\n(2)...   \n",
      "2   (1)2021年4月1日現在で23歳以下の学域2～4年生が対象(学域生のみ)\\r\\r\\n※2...   \n",
      "3   愛媛県内の高等学校を卒業している方、または保護者(奨学生が成人の場合、保護者であった方)が愛...   \n",
      "4   \\r\\r\\n【環境分野】\\r\\r\\n以下の項目を全て満たしていること。\\r\\n\\r\\r\\n1...   \n",
      "..                                                ...   \n",
      "73  \\r\\r\\n国籍・・・問わず。ただし、日本以外の国籍を有する者に\\r\\r\\n　　　　　ついて...   \n",
      "74  \\r\\r\\n以下の(1)～(5)のすべてに該当すること。\\r\\n\\r\\r\\n(1) 日本国籍...   \n",
      "75  \\r\\r\\n次に掲げる要件をすべて満たす方とします。 \\r\\r\\n・日本国籍を有する方。 \\...   \n",
      "76  \\r\\r\\n次に掲げる要件をすべて満たす方とします。 \\r\\r\\n・日本国籍を有する方。\\r...   \n",
      "77  \\r\\r\\n(ア) 鳥取県・長崎県内の大学（2～4年）・大学院に在籍する者\\r\\r\\n　　　...   \n",
      "\n",
      "                                                    3         4  \\\n",
      "0                   (1)願書\\r\\r\\n(2)推薦理由書\\r\\r\\n(3)成績証明書    本学推薦5名   \n",
      "1   \\r\\r\\n※ 2022年4月入学の学域1年生の場合は、下記の(2)推薦書、\\r\\r\\n　(...  全体 15名程度   \n",
      "2   1. 書類送付書\\r\\r\\n2. 願書(写真添付)\\r\\r\\n3. 応募時誓約書\\r\\r\\n...  全体 30名程度   \n",
      "3   \\r\\r\\n(1)公益信託池田育英会トラスト奨学金給付申請書(様式1)\\r\\r\\n(2)推薦...     全体 5名   \n",
      "4   \\r\\r\\n  1. 奨学金給付願書（所定様式）：1部\\r\\r\\n   2. 直近年度の成績...  全体 30名程度   \n",
      "..                                                ...       ...   \n",
      "73  \\r\\r\\n(1)提出書類確認表\\r\\r\\n(2)願書Ａ、Ｂ\\r\\r\\n(3)写真\\r\\r\\...     全体 6名   \n",
      "74  \\r\\r\\n① 奨学生願書（所定の様式を用いて作成したもの） \\r\\r\\n② 在学証明書（在...    全体 10名   \n",
      "75  \\r\\r\\n①願書（第1号様式G） \\r\\r\\n②推薦書（学部における主指導教官によるもの）...    本学推薦1名   \n",
      "76  \\r\\r\\n①願書（第1号様式H）\\r\\r\\n②推薦書（主指導教官によるもの）\\r\\r\\n ...   全体 5名程度   \n",
      "77  \\r\\r\\n① 奨学生願書（所定様式による）\\r\\r\\n② 写真（たて4ｃｍ×よこ3ｃｍで裏...  全体 15名程度   \n",
      "\n",
      "                5                      6     7               8     9  \n",
      "0             1年間    80,000円/月一時金40,000円  募集要項  2021/12/03募集終了  大学経由  \n",
      "1             1年間              30,000円/月  募集要項  2022/03/10募集終了  大学経由  \n",
      "2       正規の最短修業年限             100,000円/年  募集要項  2022/01/14募集終了    直接  \n",
      "3       正規の最短修業期間            17,000円/月＋α  募集要項      2022/05/13    直接  \n",
      "4             1年間             200,000円/年  募集要項  2022/04/27募集終了  大学経由  \n",
      "..            ...                    ...   ...             ...   ...  \n",
      "73            1年間             120,000円/月  募集要項  2021/12/24募集終了    直接  \n",
      "74  2年間(学域3、4年次)              480,000円/年  募集要項      2022/05/31    直接  \n",
      "75     正規の最短修業年限    80,000円/月授業料等、募集要項参照  募集要項  2022/04/25募集終了  大学経由  \n",
      "76      正規の最短修業年限  200,000円/月授業料等、募集要項参照  募集要項  2022/04/11募集終了    直接  \n",
      "77     正規の最短修業年限               20,000円/月  募集要項      2022/05/17  大学経由  \n",
      "\n",
      "[78 rows x 10 columns]\n"
     ]
    }
   ],
   "source": [
    "import pandas as pd\n",
    "df_1 = pd.read_csv('now.csv',header=None)\n",
    "print(df_1)"
   ]
  },
  {
   "cell_type": "code",
   "execution_count": 24,
   "metadata": {},
   "outputs": [
    {
     "name": "stdout",
     "output_type": "stream",
     "text": [
      "{'一般財団法人KAWAJIRI FOUNDATUON'}\n"
     ]
    }
   ],
   "source": [
    "l1 = list(df_1[0].values)\n",
    "l2 = list(df_2[0].values)\n",
    "l1_l2_and = set(l1) - set(l2)\n",
    "print(l1_l2_and)"
   ]
  }
 ],
 "metadata": {
  "interpreter": {
   "hash": "e6aa76da93cd9d51d5c8522c2045b327a83a41ac25cf6054ac8097bb298aeff6"
  },
  "kernelspec": {
   "display_name": "Python 3.8.10 ('pytorch')",
   "language": "python",
   "name": "python3"
  },
  "language_info": {
   "codemirror_mode": {
    "name": "ipython",
    "version": 3
   },
   "file_extension": ".py",
   "mimetype": "text/x-python",
   "name": "python",
   "nbconvert_exporter": "python",
   "pygments_lexer": "ipython3",
   "version": "3.8.10"
  },
  "orig_nbformat": 4
 },
 "nbformat": 4,
 "nbformat_minor": 2
}
